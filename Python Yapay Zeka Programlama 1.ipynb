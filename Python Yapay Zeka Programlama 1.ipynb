{
 "cells": [
  {
   "cell_type": "markdown",
   "metadata": {},
   "source": [
    "# Numpy Lib"
   ]
  },
  {
   "cell_type": "markdown",
   "metadata": {},
   "source": [
    "#### np.array()\n",
    "- Matris oluştururken kullanıyoruz"
   ]
  },
  {
   "cell_type": "markdown",
   "metadata": {},
   "source": [
    "#### array.reshape(x,y)\n",
    "- X satırında y sütunu kadar matris oluşturuyoruz."
   ]
  },
  {
   "cell_type": "markdown",
   "metadata": {},
   "source": [
    "#### array.ndim\n",
    "- Bir matrisin kaç boyutlu olduğunu gösterir"
   ]
  },
  {
   "cell_type": "markdown",
   "metadata": {},
   "source": [
    "#### array.dtype.name\n",
    "- Integer mi string mi onu öğreniriz"
   ]
  },
  {
   "cell_type": "markdown",
   "metadata": {},
   "source": [
    "#### array.size\n",
    "- Yine boyutu öğrenmede kullanılır."
   ]
  },
  {
   "cell_type": "markdown",
   "metadata": {},
   "source": [
    "#### np.zeros(x,y)\n",
    "- İçerisine girilen değerlerle x satır y sütun olacak şekiled sıfırlardan oluşan matris üretir. "
   ]
  },
  {
   "cell_type": "markdown",
   "metadata": {},
   "source": [
    "#### np.ones(x,y)\n",
    "- İçerisine girilen değerlerle x satır y sütun olacak şekilde birlerden oluşan matris üretir. "
   ]
  },
  {
   "cell_type": "markdown",
   "metadata": {},
   "source": [
    "#### np.empty(x,y)\n",
    "- X satır y sütunluk BOŞ matris üretir"
   ]
  },
  {
   "cell_type": "markdown",
   "metadata": {},
   "source": [
    "#### np.arrange(x,y,z) \n",
    "- x den y e kadar olan sayıları z atlayarak yaz demektir."
   ]
  },
  {
   "cell_type": "markdown",
   "metadata": {},
   "source": [
    "#### np.linsspace(x,y,z)\n",
    "- x den y e kadar olan sayıları z kadar türetir ama en son  y i de dahil et demektir."
   ]
  },
  {
   "cell_type": "markdown",
   "metadata": {},
   "source": [
    "#### np.sin(x )\n",
    "- İçerisine girilen değerin sinüsünü alır"
   ]
  },
  {
   "cell_type": "markdown",
   "metadata": {},
   "source": [
    "#### np.random.random(x,y)\n",
    "- x ve y lik matris oluştur\n",
    "- Oluşturulan matris 0 ve 1 arasında değer üretir."
   ]
  },
  {
   "cell_type": "markdown",
   "metadata": {},
   "source": [
    "#### np.sum()\n",
    "- Matrislerde toplama işlemi yapar"
   ]
  },
  {
   "cell_type": "markdown",
   "metadata": {},
   "source": [
    "#### np.max() \n",
    "- Matristeki maximum değeri getirir\n"
   ]
  },
  {
   "cell_type": "markdown",
   "metadata": {},
   "source": [
    "#### np.min()\n",
    "- Matristeki minimum değeri getirir"
   ]
  },
  {
   "cell_type": "markdown",
   "metadata": {},
   "source": [
    "İçerisine axis=0 veya 1 alır 1 sütunları seçer 0 satırları seçer"
   ]
  },
  {
   "cell_type": "markdown",
   "metadata": {},
   "source": [
    "#### np.sqrt()\n",
    "- İçerisine verilecek değerin karekökünü alır"
   ]
  },
  {
   "cell_type": "markdown",
   "metadata": {},
   "source": [
    "#### np.square()\n",
    "- İçerisine atılan değerin karesini alır"
   ]
  },
  {
   "cell_type": "markdown",
   "metadata": {},
   "source": [
    "#### arrayismi.T\n",
    "- Bir matrisin transpozunu alır"
   ]
  },
  {
   "cell_type": "markdown",
   "metadata": {},
   "source": [
    "#### np.dot()"
   ]
  },
  {
   "cell_type": "markdown",
   "metadata": {},
   "source": [
    "#### np.ravel()\n",
    "- İçerisine bir matris atılırsa tek bir vektör(satır gibi düşünülebilir) haline getirir"
   ]
  },
  {
   "cell_type": "markdown",
   "metadata": {},
   "source": [
    "#### array.reshape(x,y)\n",
    "- Bir matriin satır ve sütununu geçici olarak değiştirir(resize dan farkı )"
   ]
  },
  {
   "cell_type": "markdown",
   "metadata": {},
   "source": [
    "#### array.resize(x,y)\n",
    "- Bir matrisin şeklini kalıcı olarak değiştirir"
   ]
  },
  {
   "cell_type": "markdown",
   "metadata": {},
   "source": [
    "#### np.vstack() veya np.hstack()\n",
    "- İki matrisi birleştirmede kullanılır.\n",
    "- Yatay birleştirme yapacaksak hstack,\n",
    "- Dikey birleştirme yapacaksak vstack kullanılır."
   ]
  },
  {
   "cell_type": "markdown",
   "metadata": {},
   "source": [
    "#### variable_name.copy() \n",
    "- Bir matrisi kopyalarken kullanılır\n",
    "- Yeni bir matris oluşturmak yerine var olan matrisin üzerinde ufak tefek değişiklik yapacaksak kullanırız"
   ]
  },
  {
   "cell_type": "markdown",
   "metadata": {},
   "source": [
    "# Pandas Lib"
   ]
  },
  {
   "cell_type": "markdown",
   "metadata": {},
   "source": []
  }
 ],
 "metadata": {
  "kernelspec": {
   "display_name": "Python 3",
   "language": "python",
   "name": "python3"
  },
  "language_info": {
   "codemirror_mode": {
    "name": "ipython",
    "version": 3
   },
   "file_extension": ".py",
   "mimetype": "text/x-python",
   "name": "python",
   "nbconvert_exporter": "python",
   "pygments_lexer": "ipython3",
   "version": "3.8.5"
  }
 },
 "nbformat": 4,
 "nbformat_minor": 4
}
